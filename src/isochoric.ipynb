{
 "cells": [
  {
   "cell_type": "code",
   "execution_count": 1,
   "metadata": {},
   "outputs": [],
   "source": [
    "%matplotlib ipympl\n",
    "import control as ct\n",
    "import cvxpy as cp\n",
    "import numpy as np\n",
    "import matplotlib.pyplot as plt\n",
    "from matplotlib import animation\n",
    "# plt.rcParams[\"animation.html\"] = \"jshtml\"\n",
    "\n",
    "import hydrostat_cell as hc\n",
    "import hydrostat_arm as ha\n",
    "import draw_nodes\n",
    "\n",
    "import importlib"
   ]
  },
  {
   "cell_type": "markdown",
   "metadata": {},
   "source": [
    "# Individual Cells\n",
    "\n",
    "Individual cells connect with each other to create one connected \"tissue\". A cell consists of vertices and muscles (edges).\n",
    "\n",
    "A cell always maintains a constant volume. Forces act on vertices and any changes in volume are compensated by the free vertices. If a cell is overconstrained, then movement is not possible. "
   ]
  },
  {
   "cell_type": "code",
   "execution_count": 4,
   "metadata": {},
   "outputs": [
    {
     "name": "stderr",
     "output_type": "stream",
     "text": [
      "c:\\Users\\Alex\\Documents\\_projTech\\030_isochoric\\src\\draw_nodes.py:46: UserWarning: frames=<bound method NodeDrawer.infinite_frames of <draw_nodes.NodeDrawer object at 0x000001CD44AB9D60>> which we can infer the length of, did not pass an explicit *save_count* and passed cache_frame_data=True.  To avoid a possibly unbounded cache, frame data caching has been disabled. To suppress this warning either pass `cache_frame_data=False` or `save_count=MAX_FRAMES`.\n",
      "  ani = FuncAnimation(\n"
     ]
    },
    {
     "data": {
      "application/vnd.jupyter.widget-view+json": {
       "model_id": "44cd0ade96984ab7a4ce0ea4102da888",
       "version_major": 2,
       "version_minor": 0
      },
      "image/png": "[encoded data removed]",
      "text/html": [
       "\n",
       "            <div style=\"display: inline-block;\">\n",
       "                <div class=\"jupyter-widgets widget-label\" style=\"text-align: center;\">\n",
       "                    Figure\n",
       "                </div>\n",
       "                <img src='data:image/png;base64,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' width=640.0/>\n",
       "            </div>\n",
       "        "
      ],
      "text/plain": [
       "Canvas(toolbar=Toolbar(toolitems=[('Home', 'Reset original view', 'home', 'home'), ('Back', 'Back to previous …"
      ]
     },
     "metadata": {},
     "output_type": "display_data"
    }
   ],
   "source": [
    "import numpy as np\n",
    "importlib.reload(ha)\n",
    "importlib.reload(draw_nodes)\n",
    "\n",
    "vertices = np.array([\n",
    "    [0, 0],\n",
    "    [1, 0],\n",
    "    [0, 1],\n",
    "    [1, 1],\n",
    "    [0, 2],\n",
    "    [1, 2],\n",
    "    [0, 3],\n",
    "    [1, 3],\n",
    "    [0, 4],\n",
    "    [1, 4],\n",
    "    [0, 5],\n",
    "    [1, 5]\n",
    "])\n",
    "cells = np.array([\n",
    "    [0, 1, 2],\n",
    "    [1, 2, 3],\n",
    "    [2, 3, 4],\n",
    "    [3, 4, 5],\n",
    "    [4, 5, 6],\n",
    "    [5, 6, 7],\n",
    "    [6, 7, 8],\n",
    "    [7, 8, 9],\n",
    "    [8, 9, 10],\n",
    "    [9, 10, 11]\n",
    "])\n",
    "arm = ha.HydrostatArm(vertices, cells)\n",
    "arm.actuate_muscle(0, 1)\n",
    "# arm.actuate_muscle(1, -.5)\n",
    "# arm.actuate_muscle(2, 1)\n",
    "# arm.actuate_muscle(3, 1)\n",
    "# arm.actuate_muscle(5, -0.5)\n",
    "# arm.actuate_muscle(6, 1)\n",
    "# arm.actuate_muscle(7, 1)\n",
    "# arm.actuate_muscle(9, -0.5)\n",
    "# arm.actuate_muscle(10, 1)\n",
    "\n",
    "# arm.actuate_muscle(0, 1)\n",
    "# # arm.actuate_muscle(1, 1)\n",
    "\n",
    "# arm.actuate_muscle(3, 1)\n",
    "# arm.actuate_muscle(7, 1)\n",
    "# arm.actuate_muscle(11, 1)\n",
    "# arm.actuate_muscle(15, 1)\n",
    "# arm.actuate_muscle(19, 1)\n",
    "drawer = draw_nodes.NodeDrawer(arm)"
   ]
  },
  {
   "cell_type": "code",
   "execution_count": 4,
   "metadata": {},
   "outputs": [],
   "source": [
    "# Constrained Optimization\n",
    "\"\"\"an arm is made of multiple cells\n",
    "each cell has 3 vertices with mass and damping and 3 edges\n",
    "each cell has a volume constraint\n",
    "some cells have vertices with constraints\n",
    "\n",
    "The arm has a combined state vector of all vertices\n",
    "The arm has a combined list of edges\n",
    "The arm has a constraint matrix\n",
    "    This constraint matrix has all the volume constraints and boundary conditions\n",
    "\n",
    "It constructs a jacobian as well as the derivative jacobian\n",
    "    \n",
    "\"\"\"\n",
    "\n",
    "simulation_steps = 1000\n",
    "dt = 0.01\n",
    "t = np.arange(0, (simulation_steps+1) * dt, dt)\n",
    "\n",
    "dim = 2\n",
    "q0 = np.array([0, 0, 1, 0, 0, 1, 1, 1])\n",
    "num_nodes = len(q0)//dim\n",
    "dq0 = np.zeros(num_nodes * dim)\n",
    "M = np.diag(np.ones(num_nodes * dim))\n",
    "W = np.linalg.inv(M)\n",
    "B = np.diag(np.ones(num_nodes * dim))\n",
    "Q = np.zeros((simulation_steps, num_nodes*dim))\n",
    "# Q[:,5] = -np.ones((simulation_steps))/2\n",
    "# Q[:,2] = -np.ones((simulation_steps))/2\n",
    "# Q[:,3] = np.ones((simulation_steps))/2\n",
    "F = np.zeros((simulation_steps, 5))\n",
    "ks = 1\n",
    "kd = 1\n",
    "\n",
    "def cell_volume(q):\n",
    "    return 0.5 * np.abs((q[2] - q[0]) * (q[5] - q[1]) - (q[3] - q[1]) * (q[4] - q[0]))\n",
    "\n",
    "def C(q):\n",
    "    \"\"\"Returns an mx1 numpy array of constraints. Each constraint is set equal\n",
    "    to zero.\"\"\"\n",
    "    return np.array([\n",
    "        cell_volume(q[0:6]) - cell_volume(q0[0:6]),\n",
    "        q[0],\n",
    "        q[1],\n",
    "        cell_volume(q[2:8]) - cell_volume(q0[2:8]),\n",
    "    ])\n",
    "\n",
    "def jacobian(q):\n",
    "    \"\"\"Returns an m x n jacobian where m is the number of constraints and n is\n",
    "    the length of the state vector. Each element is the partial derivative\n",
    "    pC_i/pq_j\"\"\"\n",
    "    return np.array([[\n",
    "        0.5*(q[3] - q[5]),\n",
    "        0.5*(q[4] - q[2]),\n",
    "        0.5*(q[5] - q[1]),\n",
    "        0.5*(q[0] - q[4]),\n",
    "        0.5*(q[1] - q[3]),\n",
    "        0.5*(q[2] - q[0]),\n",
    "        0, 0],\n",
    "\n",
    "        [1, 0, 0, 0, 0, 0, 0, 0],\n",
    "        [0, 1, 0, 0, 0, 0, 0, 0],\n",
    "        \n",
    "        [0, 0,\n",
    "        0.5*(q[5] - q[7]),\n",
    "        0.5*(q[6] - q[4]),\n",
    "        0.5*(q[7] - q[3]),\n",
    "        0.5*(q[2] - q[6]),\n",
    "        0.5*(q[3] - q[5]),\n",
    "        0.5*(q[4] - q[2])],\n",
    "        ])\n",
    "\n",
    "def dJ(q, dq):\n",
    "    \"\"\"Returns an m x n matrix of derivatives dJ/dt. This would technically be\n",
    "    a rank 3 tensor, but can be represented by the mxn p(pC/pq dq/dt)/pq\"\"\"\n",
    "    return np.array([[\n",
    "        0.5*(dq[3] - dq[5]),\n",
    "        0.5*(dq[4] - dq[2]),\n",
    "        0.5*(dq[5] - dq[1]),\n",
    "        0.5*(dq[0] - dq[4]),\n",
    "        0.5*(dq[1] - dq[3]),\n",
    "        0.5*(dq[2] - dq[0]),\n",
    "        0, 0],\n",
    "\n",
    "        [0, 0, 0, 0, 0, 0, 0, 0],\n",
    "        [0, 0, 0, 0, 0, 0, 0, 0],\n",
    "\n",
    "        [0, 0,\n",
    "        0.5*(dq[5] - dq[7]),\n",
    "        0.5*(dq[6] - dq[4]),\n",
    "        0.5*(dq[7] - dq[3]),\n",
    "        0.5*(dq[2] - dq[6]),\n",
    "        0.5*(dq[3] - dq[5]),\n",
    "        0.5*(dq[4] - dq[2])],\n",
    "    ])\n",
    "\n",
    "qs = np.empty((simulation_steps+1, num_nodes*dim))\n",
    "dqs = np.empty((simulation_steps+1, num_nodes*dim))\n",
    "qs[0] = q0\n",
    "dqs[0] = dq0\n",
    "\n",
    "for idx in range(simulation_steps):\n",
    "    q = qs[idx]\n",
    "    dq = dqs[idx]\n",
    "    J = jacobian(q)\n",
    "    lagrange_mult = (\n",
    "        np.linalg.inv(J @ W @ J.T)\n",
    "        @ ((J @ W @ B - dJ(q, dq)) @ dq - J @ W @ Q[idx])# - ks * C(q) - kd * J @ dq)\n",
    "    )\n",
    "\n",
    "\n",
    "    reactions = J.T @ lagrange_mult\n",
    "    ddq = W @ (Q[idx] + reactions) - W @ B @ dq\n",
    "    dqs[idx+1] = dq + ddq * dt\n",
    "    qs[idx+1] = q + dq * dt\n"
   ]
  },
  {
   "cell_type": "code",
   "execution_count": 5,
   "metadata": {},
   "outputs": [
    {
     "name": "stdout",
     "output_type": "stream",
     "text": [
      "0.0009828929861483982\n",
      "0.0007012108371922121\n"
     ]
    }
   ],
   "source": [
    "cell_volumes = cell_volume(qs.T[0:6])\n",
    "max_vol_error = np.max(np.abs(cell_volumes - cell_volumes[0]))\n",
    "print(max_vol_error)\n",
    "\n",
    "cell_volumes = cell_volume(qs.T[2:8])\n",
    "max_vol_error = np.max(np.abs(cell_volumes - cell_volumes[0]))\n",
    "print(max_vol_error)"
   ]
  },
  {
   "cell_type": "code",
   "execution_count": 6,
   "metadata": {},
   "outputs": [
    {
     "data": {
      "application/vnd.jupyter.widget-view+json": {
       "model_id": "d25750312fd141a481782d11a62e273d",
       "version_major": 2,
       "version_minor": 0
      },
      "image/png": "[encoded data removed]",
      "text/html": [
       "\n",
       "            <div style=\"display: inline-block;\">\n",
       "                <div class=\"jupyter-widgets widget-label\" style=\"text-align: center;\">\n",
       "                    Figure\n",
       "                </div>\n",
       "                <img src='data:image/png;base64,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' width=640.0/>\n",
       "            </div>\n",
       "        "
      ],
      "text/plain": [
       "Canvas(toolbar=Toolbar(toolitems=[('Home', 'Reset original view', 'home', 'home'), ('Back', 'Back to previous …"
      ]
     },
     "metadata": {},
     "output_type": "display_data"
    }
   ],
   "source": [
    "def get_triangle_coords(q):\n",
    "    return ([q[0], q[2], q[4], q[0]], [q[1], q[3], q[5], q[1]])\n",
    "\n",
    "def get_net_coords(q):\n",
    "    return ([q[0], q[2], q[4], q[0], q[4], q[6], q[2]], [q[1], q[3], q[5], q[1], q[5], q[7], q[3]])\n",
    "\n",
    "fig, ax = plt.subplots()\n",
    "ax.set_aspect('equal')\n",
    "ax.set_xlim([-5, 5])\n",
    "ax.set_ylim([-5, 5])\n",
    "# tri, = ax.plot(*get_triangle_coords(qs[0]))\n",
    "net, = ax.plot(*get_net_coords(qs[0]))\n",
    "arrow = ax.arrow(qs[0,2], qs[0,3], Q[0,2], Q[0,3], length_includes_head=True, head_width=.1)\n",
    "\n",
    "\n",
    "def update(frame):\n",
    "    # tri.set_data(*get_triangle_coords(qs[frame]))\n",
    "    net.set_data(*get_net_coords(qs[frame]))\n",
    "    arrow.set_data(x=qs[frame, 2], y=qs[frame, 3], dx=Q[frame, 2], dy=Q[frame, 3])\n",
    "    return net, arrow,\n",
    "\n",
    "ani = animation.FuncAnimation(fig, update, frames=simulation_steps, interval=10)\n",
    "ani.save('triangle_animation.mp4')\n"
   ]
  },
  {
   "cell_type": "code",
   "execution_count": 4,
   "metadata": {},
   "outputs": [
    {
     "name": "stderr",
     "output_type": "stream",
     "text": [
      "C:\\Users\\Alex\\AppData\\Local\\Temp\\ipykernel_24628\\1828495871.py:40: UserWarning: frames=<function infinite_frames at 0x0000022AC0E74860> which we can infer the length of, did not pass an explicit *save_count* and passed cache_frame_data=True.  To avoid a possibly unbounded cache, frame data caching has been disabled. To suppress this warning either pass `cache_frame_data=False` or `save_count=MAX_FRAMES`.\n",
      "  ani = FuncAnimation(fig, animate, init_func=init, frames=infinite_frames, interval=20, blit=True)\n"
     ]
    },
    {
     "data": {
      "application/vnd.jupyter.widget-view+json": {
       "model_id": "226fa1267ddb475091df67579d15b84d",
       "version_major": 2,
       "version_minor": 0
      },
      "image/png": "[encoded data removed]",
      "text/html": [
       "\n",
       "            <div style=\"display: inline-block;\">\n",
       "                <div class=\"jupyter-widgets widget-label\" style=\"text-align: center;\">\n",
       "                    Figure\n",
       "                </div>\n",
       "                <img src='data:image/png;base64,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' width=640.0/>\n",
       "            </div>\n",
       "        "
      ],
      "text/plain": [
       "Canvas(toolbar=Toolbar(toolitems=[('Home', 'Reset original view', 'home', 'home'), ('Back', 'Back to previous …"
      ]
     },
     "metadata": {},
     "output_type": "display_data"
    }
   ],
   "source": [
    "import networkx as nx\n",
    "from matplotlib.animation import FuncAnimation\n",
    "import matplotlib.pyplot as plt\n",
    "\n",
    "vertices = [[0, 0], [1, 0], [0, 1], [1, 1]]\n",
    "edges = [(0, 1), (1, 2), (2, 0), (1, 3), (3, 2)]\n",
    "G = nx.Graph()\n",
    "for i, vertex in enumerate(vertices):\n",
    "    G.add_node(i, pos=vertex)\n",
    "G.add_edges_from(edges)\n",
    "pos = nx.get_node_attributes(G, \"pos\")\n",
    "\n",
    "\n",
    "fig, ax = plt.subplots()\n",
    "nodes = nx.draw_networkx_nodes(G, pos, ax=ax)\n",
    "\n",
    "def on_press(event):\n",
    "    ani.pause()\n",
    "fig.canvas.mpl_connect(\"button_press_event\", on_press)\n",
    "\n",
    "\n",
    "def infinite_frames():\n",
    "    frame = 0\n",
    "    while True:\n",
    "        yield frame\n",
    "        frame += 1\n",
    "\n",
    "def animate(frame):\n",
    "    ax.clear()\n",
    "    pos[3] = [1, frame/10]\n",
    "    G.nodes[3][\"pos\"] = tuple(pos[3])\n",
    "    nx.draw(G, pos, ax=ax)\n",
    "    nodes = nx.draw_networkx_nodes(G, pos, ax=ax)\n",
    "    return nodes,\n",
    "\n",
    "def init():\n",
    "    nx.draw(G, pos, ax=ax)\n",
    "    return nodes,\n",
    "\n",
    "ani = FuncAnimation(fig, animate, init_func=init, frames=infinite_frames, interval=20, blit=True)"
   ]
  }
 ],
 "metadata": {
  "kernelspec": {
   "display_name": "venv",
   "language": "python",
   "name": "python3"
  },
  "language_info": {
   "codemirror_mode": {
    "name": "ipython",
    "version": 3
   },
   "file_extension": ".py",
   "mimetype": "text/x-python",
   "name": "python",
   "nbconvert_exporter": "python",
   "pygments_lexer": "ipython3",
   "version": "3.12.3"
  }
 },
 "nbformat": 4,
 "nbformat_minor": 2
}
