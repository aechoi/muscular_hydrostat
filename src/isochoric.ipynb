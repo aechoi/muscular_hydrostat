{
 "cells": [
  {
   "cell_type": "code",
   "execution_count": 2,
   "metadata": {},
   "outputs": [],
   "source": [
    "%matplotlib widget\n",
    "import control as ct\n",
    "import cvxpy as cp\n",
    "import numpy as np\n",
    "import matplotlib.pyplot as plt\n",
    "from matplotlib import animation\n",
    "# plt.rcParams[\"animation.html\"] = \"jshtml\"\n",
    "\n",
    "import hydrostat_cell as hc\n",
    "import hydrostat_arm as ha\n",
    "import draw_nodes\n",
    "\n",
    "import importlib"
   ]
  },
  {
   "cell_type": "markdown",
   "metadata": {},
   "source": [
    "# Individual Cells\n",
    "\n",
    "Individual cells connect with each other to create one connected \"tissue\". A cell consists of vertices and muscles (edges).\n",
    "\n",
    "A cell always maintains a constant volume. Forces act on vertices and any changes in volume are compensated by the free vertices. If a cell is overconstrained, then movement is not possible. "
   ]
  },
  {
   "cell_type": "code",
   "execution_count": 3,
   "metadata": {},
   "outputs": [
    {
     "name": "stderr",
     "output_type": "stream",
     "text": [
      "c:\\Users\\Alex\\Documents\\_projTech\\030_isochoric\\src\\draw_nodes.py:46: UserWarning: frames=<bound method NodeDrawer.infinite_frames of <draw_nodes.NodeDrawer object at 0x000001445062E360>> which we can infer the length of, did not pass an explicit *save_count* and passed cache_frame_data=True.  To avoid a possibly unbounded cache, frame data caching has been disabled. To suppress this warning either pass `cache_frame_data=False` or `save_count=MAX_FRAMES`.\n",
      "  self.ani = FuncAnimation(\n"
     ]
    },
    {
     "data": {
      "application/vnd.jupyter.widget-view+json": {
       "model_id": "42df6d393eca42d1be31c943b5938c86",
       "version_major": 2,
       "version_minor": 0
      },
      "image/png": "[encoded data removed]",
      "text/html": [
       "\n",
       "            <div style=\"display: inline-block;\">\n",
       "                <div class=\"jupyter-widgets widget-label\" style=\"text-align: center;\">\n",
       "                    Figure\n",
       "                </div>\n",
       "                <img src='data:image/png;base64,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' width=640.0/>\n",
       "            </div>\n",
       "        "
      ],
      "text/plain": [
       "Canvas(toolbar=Toolbar(toolitems=[('Home', 'Reset original view', 'home', 'home'), ('Back', 'Back to previous …"
      ]
     },
     "metadata": {},
     "output_type": "display_data"
    }
   ],
   "source": [
    "importlib.reload(ha)\n",
    "importlib.reload(draw_nodes)\n",
    "\n",
    "vertices = np.array([\n",
    "    [0, 0],\n",
    "    [1, 0],\n",
    "    [0, 1],\n",
    "    [1, 1],\n",
    "    [0, 2],\n",
    "    [1, 2],\n",
    "    [0, 3],\n",
    "    [1, 3],\n",
    "    [0, 4],\n",
    "    [1, 4],\n",
    "    [0, 5],\n",
    "    [1, 5]\n",
    "])\n",
    "cells = np.array([\n",
    "    [0, 1, 2],\n",
    "    [1, 2, 3],\n",
    "    [2, 3, 4],\n",
    "    [3, 4, 5],\n",
    "    [4, 5, 6],\n",
    "    [5, 6, 7],\n",
    "    [6, 7, 8],\n",
    "    [7, 8, 9],\n",
    "    [8, 9, 10],\n",
    "    [9, 10, 11]\n",
    "])\n",
    "arm = ha.HydrostatArm(vertices, cells)\n",
    "# arm.actuate_muscle(0, 1)\n",
    "# arm.actuate_muscle(1, -.5)\n",
    "# arm.actuate_muscle(2, 1)\n",
    "# arm.actuate_muscle(3, 1)\n",
    "# arm.actuate_muscle(5, -0.5)\n",
    "# arm.actuate_muscle(6, 1)\n",
    "# arm.actuate_muscle(7, 1)\n",
    "# arm.actuate_muscle(9, -0.5)\n",
    "# arm.actuate_muscle(10, 1)\n",
    "\n",
    "# arm.actuate_muscle(0, 1)\n",
    "# # arm.actuate_muscle(1, 1)\n",
    "\n",
    "# arm.actuate_muscle(3, 1)\n",
    "# arm.actuate_muscle(7, 1)\n",
    "# arm.actuate_muscle(11, 1)\n",
    "# arm.actuate_muscle(15, 1)\n",
    "# arm.actuate_muscle(19, 1)\n",
    "# arm.apply_external_force(2, [0, 1])\n",
    "drawer = draw_nodes.NodeDrawer(arm)"
   ]
  },
  {
   "cell_type": "code",
   "execution_count": 4,
   "metadata": {},
   "outputs": [],
   "source": [
    "# Constrained Optimization\n",
    "\"\"\"an arm is made of multiple cells\n",
    "each cell has 3 vertices with mass and damping and 3 edges\n",
    "each cell has a volume constraint\n",
    "some cells have vertices with constraints\n",
    "\n",
    "The arm has a combined state vector of all vertices\n",
    "The arm has a combined list of edges\n",
    "The arm has a constraint matrix\n",
    "    This constraint matrix has all the volume constraints and boundary conditions\n",
    "\n",
    "It constructs a jacobian as well as the derivative jacobian\n",
    "    \n",
    "\"\"\"\n",
    "\n",
    "simulation_steps = 1000\n",
    "dt = 0.01\n",
    "t = np.arange(0, (simulation_steps+1) * dt, dt)\n",
    "\n",
    "dim = 2\n",
    "q0 = np.array([0, 0, 1, 0, 0, 1, 1, 1])\n",
    "num_nodes = len(q0)//dim\n",
    "dq0 = np.zeros(num_nodes * dim)\n",
    "M = np.diag(np.ones(num_nodes * dim))\n",
    "W = np.linalg.inv(M)\n",
    "B = np.diag(np.ones(num_nodes * dim))\n",
    "Q = np.zeros((simulation_steps, num_nodes*dim))\n",
    "# Q[:,5] = -np.ones((simulation_steps))/2\n",
    "# Q[:,2] = -np.ones((simulation_steps))/2\n",
    "# Q[:,3] = np.ones((simulation_steps))/2\n",
    "F = np.zeros((simulation_steps, 5))\n",
    "ks = 1\n",
    "kd = 1\n",
    "\n",
    "def cell_volume(q):\n",
    "    return 0.5 * np.abs((q[2] - q[0]) * (q[5] - q[1]) - (q[3] - q[1]) * (q[4] - q[0]))\n",
    "\n",
    "def C(q):\n",
    "    \"\"\"Returns an mx1 numpy array of constraints. Each constraint is set equal\n",
    "    to zero.\"\"\"\n",
    "    return np.array([\n",
    "        cell_volume(q[0:6]) - cell_volume(q0[0:6]),\n",
    "        q[0],\n",
    "        q[1],\n",
    "        cell_volume(q[2:8]) - cell_volume(q0[2:8]),\n",
    "    ])\n",
    "\n",
    "def jacobian(q):\n",
    "    \"\"\"Returns an m x n jacobian where m is the number of constraints and n is\n",
    "    the length of the state vector. Each element is the partial derivative\n",
    "    pC_i/pq_j\"\"\"\n",
    "    return np.array([[\n",
    "        0.5*(q[3] - q[5]),\n",
    "        0.5*(q[4] - q[2]),\n",
    "        0.5*(q[5] - q[1]),\n",
    "        0.5*(q[0] - q[4]),\n",
    "        0.5*(q[1] - q[3]),\n",
    "        0.5*(q[2] - q[0]),\n",
    "        0, 0],\n",
    "\n",
    "        [1, 0, 0, 0, 0, 0, 0, 0],\n",
    "        [0, 1, 0, 0, 0, 0, 0, 0],\n",
    "        \n",
    "        [0, 0,\n",
    "        0.5*(q[5] - q[7]),\n",
    "        0.5*(q[6] - q[4]),\n",
    "        0.5*(q[7] - q[3]),\n",
    "        0.5*(q[2] - q[6]),\n",
    "        0.5*(q[3] - q[5]),\n",
    "        0.5*(q[4] - q[2])],\n",
    "        ])\n",
    "\n",
    "def dJ(q, dq):\n",
    "    \"\"\"Returns an m x n matrix of derivatives dJ/dt. This would technically be\n",
    "    a rank 3 tensor, but can be represented by the mxn p(pC/pq dq/dt)/pq\"\"\"\n",
    "    return np.array([[\n",
    "        0.5*(dq[3] - dq[5]),\n",
    "        0.5*(dq[4] - dq[2]),\n",
    "        0.5*(dq[5] - dq[1]),\n",
    "        0.5*(dq[0] - dq[4]),\n",
    "        0.5*(dq[1] - dq[3]),\n",
    "        0.5*(dq[2] - dq[0]),\n",
    "        0, 0],\n",
    "\n",
    "        [0, 0, 0, 0, 0, 0, 0, 0],\n",
    "        [0, 0, 0, 0, 0, 0, 0, 0],\n",
    "\n",
    "        [0, 0,\n",
    "        0.5*(dq[5] - dq[7]),\n",
    "        0.5*(dq[6] - dq[4]),\n",
    "        0.5*(dq[7] - dq[3]),\n",
    "        0.5*(dq[2] - dq[6]),\n",
    "        0.5*(dq[3] - dq[5]),\n",
    "        0.5*(dq[4] - dq[2])],\n",
    "    ])\n",
    "\n",
    "qs = np.empty((simulation_steps+1, num_nodes*dim))\n",
    "dqs = np.empty((simulation_steps+1, num_nodes*dim))\n",
    "qs[0] = q0\n",
    "dqs[0] = dq0\n",
    "\n",
    "for idx in range(simulation_steps):\n",
    "    q = qs[idx]\n",
    "    dq = dqs[idx]\n",
    "    J = jacobian(q)\n",
    "    lagrange_mult = (\n",
    "        np.linalg.inv(J @ W @ J.T)\n",
    "        @ ((J @ W @ B - dJ(q, dq)) @ dq - J @ W @ Q[idx])# - ks * C(q) - kd * J @ dq)\n",
    "    )\n",
    "\n",
    "\n",
    "    reactions = J.T @ lagrange_mult\n",
    "    ddq = W @ (Q[idx] + reactions) - W @ B @ dq\n",
    "    dqs[idx+1] = dq + ddq * dt\n",
    "    qs[idx+1] = q + dq * dt\n"
   ]
  },
  {
   "cell_type": "code",
   "execution_count": 5,
   "metadata": {},
   "outputs": [
    {
     "name": "stdout",
     "output_type": "stream",
     "text": [
      "0.0009828929861483982\n",
      "0.0007012108371922121\n"
     ]
    }
   ],
   "source": [
    "cell_volumes = cell_volume(qs.T[0:6])\n",
    "max_vol_error = np.max(np.abs(cell_volumes - cell_volumes[0]))\n",
    "print(max_vol_error)\n",
    "\n",
    "cell_volumes = cell_volume(qs.T[2:8])\n",
    "max_vol_error = np.max(np.abs(cell_volumes - cell_volumes[0]))\n",
    "print(max_vol_error)"
   ]
  },
  {
   "cell_type": "code",
   "execution_count": 6,
   "metadata": {},
   "outputs": [
    {
     "data": {
      "application/vnd.jupyter.widget-view+json": {
       "model_id": "d25750312fd141a481782d11a62e273d",
       "version_major": 2,
       "version_minor": 0
      },
      "image/png": "[encoded data removed]",
      "text/html": [
       "\n",
       "            <div style=\"display: inline-block;\">\n",
       "                <div class=\"jupyter-widgets widget-label\" style=\"text-align: center;\">\n",
       "                    Figure\n",
       "                </div>\n",
       "                <img src='data:image/png;base64,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' width=640.0/>\n",
       "            </div>\n",
       "        "
      ],
      "text/plain": [
       "Canvas(toolbar=Toolbar(toolitems=[('Home', 'Reset original view', 'home', 'home'), ('Back', 'Back to previous …"
      ]
     },
     "metadata": {},
     "output_type": "display_data"
    }
   ],
   "source": [
    "def get_triangle_coords(q):\n",
    "    return ([q[0], q[2], q[4], q[0]], [q[1], q[3], q[5], q[1]])\n",
    "\n",
    "def get_net_coords(q):\n",
    "    return ([q[0], q[2], q[4], q[0], q[4], q[6], q[2]], [q[1], q[3], q[5], q[1], q[5], q[7], q[3]])\n",
    "\n",
    "fig, ax = plt.subplots()\n",
    "ax.set_aspect('equal')\n",
    "ax.set_xlim([-5, 5])\n",
    "ax.set_ylim([-5, 5])\n",
    "# tri, = ax.plot(*get_triangle_coords(qs[0]))\n",
    "net, = ax.plot(*get_net_coords(qs[0]))\n",
    "arrow = ax.arrow(qs[0,2], qs[0,3], Q[0,2], Q[0,3], length_includes_head=True, head_width=.1)\n",
    "\n",
    "\n",
    "def update(frame):\n",
    "    # tri.set_data(*get_triangle_coords(qs[frame]))\n",
    "    net.set_data(*get_net_coords(qs[frame]))\n",
    "    arrow.set_data(x=qs[frame, 2], y=qs[frame, 3], dx=Q[frame, 2], dy=Q[frame, 3])\n",
    "    return net, arrow,\n",
    "\n",
    "ani = animation.FuncAnimation(fig, update, frames=simulation_steps, interval=10)\n",
    "ani.save('triangle_animation.mp4')\n"
   ]
  },
  {
   "cell_type": "code",
   "execution_count": 5,
   "metadata": {},
   "outputs": [
    {
     "name": "stderr",
     "output_type": "stream",
     "text": [
      "C:\\Users\\Alex\\AppData\\Local\\Temp\\ipykernel_7396\\2871914732.py:40: UserWarning: frames=<function infinite_frames at 0x00000144458EDE40> which we can infer the length of, did not pass an explicit *save_count* and passed cache_frame_data=True.  To avoid a possibly unbounded cache, frame data caching has been disabled. To suppress this warning either pass `cache_frame_data=False` or `save_count=MAX_FRAMES`.\n",
      "  ani = FuncAnimation(fig, animate, frames=infinite_frames, interval=20, blit=True)\n"
     ]
    },
    {
     "data": {
      "application/vnd.jupyter.widget-view+json": {
       "model_id": "66adb5076d0a4633b715447616720b04",
       "version_major": 2,
       "version_minor": 0
      },
      "image/png": "[encoded data removed]",
      "text/html": [
       "\n",
       "            <div style=\"display: inline-block;\">\n",
       "                <div class=\"jupyter-widgets widget-label\" style=\"text-align: center;\">\n",
       "                    Figure\n",
       "                </div>\n",
       "                <img src='data:image/png;base64,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' width=640.0/>\n",
       "            </div>\n",
       "        "
      ],
      "text/plain": [
       "Canvas(toolbar=Toolbar(toolitems=[('Home', 'Reset original view', 'home', 'home'), ('Back', 'Back to previous …"
      ]
     },
     "metadata": {},
     "output_type": "display_data"
    },
    {
     "name": "stdout",
     "output_type": "stream",
     "text": [
      "stopping\n"
     ]
    }
   ],
   "source": [
    "%matplotlib widget\n",
    "import networkx as nx\n",
    "from matplotlib.animation import FuncAnimation\n",
    "import matplotlib.pyplot as plt\n",
    "\n",
    "vertices = [[0, 0], [1, 0], [0, 1], [1, 1]]\n",
    "edges = [(0, 1), (1, 2), (2, 0), (1, 3), (3, 2)]\n",
    "G = nx.Graph()\n",
    "for i, vertex in enumerate(vertices):\n",
    "    G.add_node(i, pos=vertex)\n",
    "G.add_edges_from(edges)\n",
    "pos = nx.get_node_attributes(G, \"pos\")\n",
    "\n",
    "\n",
    "fig, ax = plt.subplots()\n",
    "nodes = nx.draw_networkx_nodes(G, pos, ax=ax)\n",
    "stop_animation = False\n",
    "\n",
    "def on_press(event):\n",
    "    print(\"stopping\")\n",
    "    stop_animation = True\n",
    "    ani.event_source.stop()\n",
    "fig.canvas.mpl_connect(\"button_press_event\", on_press)\n",
    "\n",
    "\n",
    "def infinite_frames():\n",
    "    frame = 0\n",
    "    while not stop_animation:\n",
    "        yield frame\n",
    "        frame += 1\n",
    "\n",
    "def animate(frame):\n",
    "    ax.clear()\n",
    "    pos[3] = [1, frame/10]\n",
    "    # G.nodes[3][\"pos\"] = tuple(pos[3])\n",
    "    nx.draw(G, pos, ax=ax)\n",
    "\n",
    "ani = FuncAnimation(fig, animate, frames=infinite_frames, interval=20, blit=True)"
   ]
  },
  {
   "cell_type": "code",
   "execution_count": null,
   "metadata": {},
   "outputs": [
    {
     "ename": "NameError",
     "evalue": "name 'ani' is not defined",
     "output_type": "error",
     "traceback": [
      "\u001b[1;31m---------------------------------------------------------------------------\u001b[0m",
      "\u001b[1;31mNameError\u001b[0m                                 Traceback (most recent call last)",
      "Cell \u001b[1;32mIn[4], line 1\u001b[0m\n\u001b[1;32m----> 1\u001b[0m \u001b[43mani\u001b[49m\u001b[38;5;241m.\u001b[39msave(\u001b[38;5;124m\"\u001b[39m\u001b[38;5;124mtest.mp4\u001b[39m\u001b[38;5;124m\"\u001b[39m)\n",
      "\u001b[1;31mNameError\u001b[0m: name 'ani' is not defined"
     ]
    }
   ],
   "source": [
    "ani.save(\"test.mp4\")"
   ]
  }
 ],
 "metadata": {
  "kernelspec": {
   "display_name": "venv",
   "language": "python",
   "name": "python3"
  },
  "language_info": {
   "codemirror_mode": {
    "name": "ipython",
    "version": 3
   },
   "file_extension": ".py",
   "mimetype": "text/x-python",
   "name": "python",
   "nbconvert_exporter": "python",
   "pygments_lexer": "ipython3",
   "version": "3.12.3"
  }
 },
 "nbformat": 4,
 "nbformat_minor": 2
}
