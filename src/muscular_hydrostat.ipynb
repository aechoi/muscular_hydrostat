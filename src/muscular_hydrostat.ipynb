{
 "cells": [
  {
   "cell_type": "code",
   "execution_count": 42,
   "metadata": {},
   "outputs": [],
   "source": [
    "import numpy as np"
   ]
  },
  {
   "cell_type": "markdown",
   "metadata": {},
   "source": [
    "# pydrostat\n",
    "Muscular hydrostat simulation using constrained dynamics\n",
    "\n",
    "This notebook demonstrates a simulation of a muscular hydrostat arm. \n",
    "\n"
   ]
  },
  {
   "cell_type": "markdown",
   "metadata": {},
   "source": [
    "# 1) Define a structure to simulate\n",
    "\n",
    "The structure is the arm or tentacle or cell being simulated. It is any set of vertices connected by edges, faces, and cells (although it's not required to have any of those connections). This notebook will demonstrate with an arm made of cubic cells. "
   ]
  },
  {
   "cell_type": "code",
   "execution_count": 43,
   "metadata": {},
   "outputs": [],
   "source": [
    "from pydrostat.structure import ArmBuilder\n",
    "\n",
    "arm_height = 6\n",
    "arm_builder = ArmBuilder.CubicArmBuilder(arm_height)\n",
    "\n",
    "arm_builder_2 = ArmBuilder.CubicArmBuilder(arm_height)\n"
   ]
  },
  {
   "cell_type": "markdown",
   "metadata": {},
   "source": [
    "# 2) Define an environment for the structure\n",
    "\n",
    "An environment has food and obstacles. The food emmits a scent which diffuses through the environment around the obstacles (ie obstacles block the scent). This requires a simulation of the diffusion of the scent which approaches some steady state distribution of scent concentration.\n",
    "\n",
    "Add this environment to the arm builder."
   ]
  },
  {
   "cell_type": "code",
   "execution_count": null,
   "metadata": {},
   "outputs": [],
   "source": [
    "from pydrostat.environment import environment\n",
    "from pydrostat.environment.obstacles import convex_polytope\n",
    "from pydrostat.environment import food\n",
    "\n",
    "food_loc = np.array([[-3, 1, 3]])\n",
    "# food_loc = np.array([3.5, 0, 0])\n",
    "food_mag = 1\n",
    "food_instance = food.Food(food_loc, food_mag)\n",
    "\n",
    "rect_obst = convex_polytope.build_rectangular_obstacle([-2.25, -1, -1], [-1.5 ,9, 9])\n",
    "# rect_obst = convex_polytope.build_rectangular_obstacle([-2.25, -9, -1], [-1.5 ,1, 9])\n",
    "\n",
    "env = environment.Environment(dim = 3, obstacles = [rect_obst], foods = [food_instance])\n",
    "arm_builder.add_environment(env)\n",
    "\n",
    "arm_builder_2.add_environment(env)\n"
   ]
  },
  {
   "cell_type": "markdown",
   "metadata": {},
   "source": [
    "# 3) Define sensors and a controller for the structure\n",
    "\n",
    "A structure takes sensory measurements of its environment and passes the sense data to a controller. Each type of controller may require a specific type of sensor data, or some combination of sensor data. "
   ]
  },
  {
   "cell_type": "code",
   "execution_count": 45,
   "metadata": {},
   "outputs": [],
   "source": [
    "from pydrostat.sensing.vertex_chemoceptors import VertexChemoceptors\n",
    "from pydrostat.control.hand_tuned_gradient import HandTunedGradient\n",
    "from pydrostat.control.hand_tuned_gradient import HandTunedGradient2\n",
    "\n",
    "arm_builder.add_sensor(VertexChemoceptors())\n",
    "arm_builder.add_controller(HandTunedGradient())\n",
    "\n",
    "arm_builder_2.add_sensor(VertexChemoceptors())\n",
    "arm_builder_2.add_controller(HandTunedGradient2())\n"
   ]
  },
  {
   "cell_type": "markdown",
   "metadata": {},
   "source": [
    "# 4) Add constraints\n",
    "\n",
    "Each constraint defines some sort of equality or inequality constraint that must be maintained throughout the simulation. This can be something like constant volume of a cell, minimum or maximum edge length, etc. "
   ]
  },
  {
   "cell_type": "code",
   "execution_count": 46,
   "metadata": {},
   "outputs": [],
   "source": [
    "from pydrostat.constraint.constant_volume import ConstantVolumeCommon\n",
    "from pydrostat.constraint.fixed_vertex import FixedVertex\n",
    "from pydrostat.constraint.planar_faces import PlanarFacesCommon\n",
    "from pydrostat.constraint.edge_length import ClipLength\n",
    "\n",
    "arm_builder.add_constraint(ConstantVolumeCommon())\n",
    "arm_builder.add_constraint(FixedVertex([0,1,2,3]))\n",
    "arm_builder.add_constraint(PlanarFacesCommon())\n",
    "arm_builder.add_constraint(ClipLength(0.5, 2.5))\n",
    "\n",
    "arm_builder_2.add_constraint(ConstantVolumeCommon())\n",
    "arm_builder_2.add_constraint(FixedVertex([0,1,2,3]))\n",
    "arm_builder_2.add_constraint(PlanarFacesCommon())\n",
    "arm_builder_2.add_constraint(ClipLength(0.5, 2.5))"
   ]
  },
  {
   "cell_type": "markdown",
   "metadata": {},
   "source": [
    "# 5) Build the arm"
   ]
  },
  {
   "cell_type": "code",
   "execution_count": 47,
   "metadata": {},
   "outputs": [],
   "source": [
    "arm = arm_builder.construct_arm()\n",
    "arm_2 = arm_builder_2.construct_arm()"
   ]
  },
  {
   "cell_type": "code",
   "execution_count": 48,
   "metadata": {},
   "outputs": [],
   "source": [
    "# arm.apply_external_forces(4, np.array([-1,-1,0])*2)\n",
    "# arm.apply_external_forces(4, np.array([0,0,-1])*0.5)"
   ]
  },
  {
   "cell_type": "code",
   "execution_count": null,
   "metadata": {},
   "outputs": [],
   "source": [
    "from pydrostat.render.display import DisplayStructure\n",
    "\n",
    "render_display = DisplayStructure(env, [arm, arm_2], dt=1/60)\n",
    "render_display.main_loop(simulating=False)"
   ]
  },
  {
   "cell_type": "code",
   "execution_count": null,
   "metadata": {},
   "outputs": [],
   "source": []
  }
 ],
 "metadata": {
  "kernelspec": {
   "display_name": "ORG_VirtualEnv",
   "language": "python",
   "name": "python3"
  },
  "language_info": {
   "codemirror_mode": {
    "name": "ipython",
    "version": 3
   },
   "file_extension": ".py",
   "mimetype": "text/x-python",
   "name": "python",
   "nbconvert_exporter": "python",
   "pygments_lexer": "ipython3",
   "version": "3.12.7"
  }
 },
 "nbformat": 4,
 "nbformat_minor": 2
}
