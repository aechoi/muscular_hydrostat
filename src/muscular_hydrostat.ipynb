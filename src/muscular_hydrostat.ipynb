{
 "cells": [
  {
   "cell_type": "code",
   "execution_count": 1,
   "metadata": {},
   "outputs": [],
   "source": [
    "import numpy as np\n",
    "# TODO concentration in environment is not taking into account obstacles for some reason."
   ]
  },
  {
   "cell_type": "markdown",
   "metadata": {},
   "source": [
    "# pydrostat\n",
    "Muscular hydrostat simulation using constrained dynamics\n",
    "\n",
    "This notebook demonstrates a simulation of a muscular hydrostat arm. \n",
    "\n"
   ]
  },
  {
   "cell_type": "markdown",
   "metadata": {},
   "source": [
    "# 1) Define a structure to simulate\n",
    "\n",
    "The structure is the arm or tentacle or cell being simulated. It is any set of vertices connected by edges, faces, and cells (although it's not required to have any of those connections). This notebook will demonstrate with an arm made of cubic cells. "
   ]
  },
  {
   "cell_type": "code",
   "execution_count": null,
   "metadata": {},
   "outputs": [],
   "source": [
    "from pydrostat.structure import structures\n",
    "\n",
    "arm_height = 6\n",
    "arm_builder = structures.CubicArmBuilder(arm_height)\n"
   ]
  },
  {
   "cell_type": "markdown",
   "metadata": {},
   "source": [
    "# 2) Define an environment for the structure\n",
    "\n",
    "An environment has food and obstacles. The food emmits a scent which diffuses through the environment around the obstacles (ie obstacles block the scent). This requires a simulation of the diffusion of the scent which approaches some steady state distribution of scent concentration.\n",
    "\n",
    "Add this environment to the arm builder."
   ]
  },
  {
   "cell_type": "code",
   "execution_count": 3,
   "metadata": {},
   "outputs": [
    {
     "name": "stdout",
     "output_type": "stream",
     "text": [
      "Loop: 50, Error: 1.000\n",
      "Loop: 100, Error: 1.000\n",
      "Loop: 150, Error: 0.368\n",
      "Loop: 200, Error: 0.184\n",
      "Loop: 250, Error: 0.112\n",
      "Loop: 300, Error: 0.075\n",
      "Loop: 350, Error: 0.054\n",
      "Converged!\n"
     ]
    }
   ],
   "source": [
    "from pydrostat.environment import environment\n",
    "from pydrostat.environment.obstacles import convex_polytope\n",
    "from pydrostat.environment import food\n",
    "\n",
    "food_loc = np.array([[-4, 0, 3]])\n",
    "food_mag = 1\n",
    "food_instance = food.Food(food_loc, food_mag)\n",
    "\n",
    "rect_obst = convex_polytope.build_rectangular_obstacle([-2.5, -1, -1], [-1.5 ,9, 9])\n",
    "\n",
    "env = environment.Environment(dim = 3, obstacles = [rect_obst], foods = [food_instance])\n",
    "arm_builder.add_environment(env)\n"
   ]
  },
  {
   "cell_type": "markdown",
   "metadata": {},
   "source": [
    "# 3) Define sensors and a controller for the structure\n",
    "\n",
    "A structure takes sensory measurements of its environment and passes the sense data to a controller. Each type of controller may require a specific type of sensor data, or some combination of sensor data. "
   ]
  },
  {
   "cell_type": "code",
   "execution_count": null,
   "metadata": {},
   "outputs": [],
   "source": [
    "from pydrostat.sensing.vertex_chemoceptors import VertexChemoceptors\n",
    "from pydrostat.control.hand_tuned_gradient import HandTunedGradient\n",
    "\n",
    "arm_builder.add_sensor(VertexChemoceptors())\n",
    "arm_builder.add_controller(HandTunedGradient())\n"
   ]
  },
  {
   "cell_type": "markdown",
   "metadata": {},
   "source": [
    "# 4) Add constraints\n",
    "\n",
    "Each constraint defines some sort of equality or inequality constraint that must be maintained throughout the simulation. This can be something like constant volume of a cell, minimum or maximum edge length, etc. "
   ]
  },
  {
   "cell_type": "code",
   "execution_count": 5,
   "metadata": {},
   "outputs": [],
   "source": [
    "from pydrostat.constraint.constant_volume import ConstantVolume\n",
    "from pydrostat.constraint.fixed_vertex import FixedVertex\n",
    "from pydrostat.constraint.planar_faces import RaggedPlanarFaces\n",
    "from pydrostat.constraint.edge_length import ClipLength\n",
    "\n",
    "arm_builder.add_constraint(ConstantVolume())\n",
    "arm_builder.add_constraint(FixedVertex([0,1,2,3]))\n",
    "arm_builder.add_constraint(RaggedPlanarFaces())\n",
    "arm_builder.add_constraint(ClipLength(0.4, 2))"
   ]
  },
  {
   "cell_type": "markdown",
   "metadata": {},
   "source": [
    "# 5) Build the arm"
   ]
  },
  {
   "cell_type": "code",
   "execution_count": 6,
   "metadata": {},
   "outputs": [],
   "source": [
    "arm = arm_builder.construct_arm()"
   ]
  },
  {
   "cell_type": "code",
   "execution_count": null,
   "metadata": {},
   "outputs": [],
   "source": [
    "\n",
    "initial_positions = arm.positions\n",
    "# arm.apply_external_forces(4, np.array([0,0,1])*10)"
   ]
  },
  {
   "cell_type": "code",
   "execution_count": 8,
   "metadata": {},
   "outputs": [],
   "source": [
    "# arm.iterate(0.01)\n",
    "# print(arm.positions - initial_positions)"
   ]
  },
  {
   "cell_type": "code",
   "execution_count": 9,
   "metadata": {},
   "outputs": [
    {
     "name": "stdout",
     "output_type": "stream",
     "text": [
      "pygame 2.6.1 (SDL 2.28.4, Python 3.12.0)\n",
      "Hello from the pygame community. https://www.pygame.org/contribute.html\n"
     ]
    },
    {
     "name": "stderr",
     "output_type": "stream",
     "text": [
      "/home/alex/code/muscular_hydrostat/src/pydrostat/constraint/planar_faces.py:109: RuntimeWarning: divide by zero encountered in divide\n",
      "  deigval_difdt[:] = -np.divide(\n"
     ]
    },
    {
     "ename": "SystemExit",
     "evalue": "",
     "output_type": "error",
     "traceback": [
      "An exception has occurred, use %tb to see the full traceback.\n",
      "\u001b[0;31mSystemExit\u001b[0m\n"
     ]
    },
    {
     "name": "stderr",
     "output_type": "stream",
     "text": [
      "/home/alex/code/muscular_hydrostat/venv/lib/python3.12/site-packages/IPython/core/interactiveshell.py:3585: UserWarning: To exit: use 'exit', 'quit', or Ctrl-D.\n",
      "  warn(\"To exit: use 'exit', 'quit', or Ctrl-D.\", stacklevel=1)\n"
     ]
    }
   ],
   "source": [
    "from pydrostat.render.display import DisplayStructure\n",
    "\n",
    "render_display = DisplayStructure(env, [arm], dt=1/60)\n",
    "render_display.main_loop(simulating=False)"
   ]
  }
 ],
 "metadata": {
  "kernelspec": {
   "display_name": "venv",
   "language": "python",
   "name": "python3"
  },
  "language_info": {
   "codemirror_mode": {
    "name": "ipython",
    "version": 3
   },
   "file_extension": ".py",
   "mimetype": "text/x-python",
   "name": "python",
   "nbconvert_exporter": "python",
   "pygments_lexer": "ipython3",
   "version": "3.12.0"
  }
 },
 "nbformat": 4,
 "nbformat_minor": 2
}
